{
 "cells": [
  {
   "cell_type": "code",
   "execution_count": 1,
   "id": "314c0445-9b94-41ec-90e0-3b486a63fd76",
   "metadata": {},
   "outputs": [],
   "source": [
    "import cv2"
   ]
  },
  {
   "cell_type": "code",
   "execution_count": 2,
   "id": "82d0b013-1bae-4134-bb32-11b0e2fc089e",
   "metadata": {},
   "outputs": [],
   "source": [
    "# Path to your local video file\n",
    "video_path = r\"C:\\Users\\ASUS\\OneDrive\\Desktop\\Step Presentation 2\\Car Parking.mp4\""
   ]
  },
  {
   "cell_type": "code",
   "execution_count": 3,
   "id": "a834f83b-d268-44b8-83e7-ca8a1301f87b",
   "metadata": {},
   "outputs": [],
   "source": [
    "# Create a VideoCapture object\n",
    "cap = cv2.VideoCapture(video_path)"
   ]
  },
  {
   "cell_type": "code",
   "execution_count": 4,
   "id": "6fa5c9ed-c4d5-4397-860c-9f18cd6f7870",
   "metadata": {},
   "outputs": [],
   "source": [
    "# Check if the video stream is opened successfully\n",
    "if not cap.isOpened():\n",
    "    print(\"Error: Unable to open video stream\")\n",
    "    exit()"
   ]
  },
  {
   "cell_type": "code",
   "execution_count": 5,
   "id": "3c4360c6-12d0-41fa-b198-409c153a8267",
   "metadata": {},
   "outputs": [
    {
     "name": "stdout",
     "output_type": "stream",
     "text": [
      "Saved frame 0\n",
      "Saved frame 1\n",
      "Saved frame 2\n",
      "Saved frame 3\n",
      "Saved frame 4\n",
      "Saved frame 5\n",
      "Saved frame 6\n",
      "Saved frame 7\n",
      "Saved frame 8\n",
      "Saved frame 9\n",
      "Saved frame 10\n",
      "Saved frame 11\n",
      "Saved frame 12\n",
      "Saved frame 13\n",
      "Saved frame 14\n",
      "Saved frame 15\n",
      "Saved frame 16\n",
      "Saved frame 17\n",
      "Saved frame 18\n",
      "Saved frame 19\n",
      "Saved frame 20\n",
      "Saved frame 21\n",
      "Saved frame 22\n",
      "Saved frame 23\n",
      "Saved frame 24\n",
      "Saved frame 25\n",
      "Saved frame 26\n",
      "Saved frame 27\n",
      "Saved frame 28\n",
      "Saved frame 29\n",
      "Saved frame 30\n",
      "Saved frame 31\n",
      "Saved frame 32\n",
      "Saved frame 33\n",
      "Saved frame 34\n",
      "Saved frame 35\n",
      "Saved frame 36\n",
      "Saved frame 37\n",
      "Saved frame 38\n",
      "Saved frame 39\n",
      "Saved frame 40\n",
      "Saved frame 41\n",
      "Saved frame 42\n",
      "Saved frame 43\n",
      "Saved frame 44\n",
      "Saved frame 45\n",
      "Saved frame 46\n",
      "Saved frame 47\n",
      "Saved frame 48\n",
      "Saved frame 49\n",
      "Saved frame 50\n",
      "Saved frame 51\n",
      "Saved frame 52\n",
      "Saved frame 53\n",
      "Saved frame 54\n",
      "Saved frame 55\n",
      "Saved frame 56\n",
      "Saved frame 57\n",
      "Saved frame 58\n",
      "Saved frame 59\n",
      "Saved frame 60\n",
      "Saved frame 61\n",
      "Saved frame 62\n",
      "Saved frame 63\n",
      "Saved frame 64\n",
      "Saved frame 65\n",
      "Saved frame 66\n",
      "Saved frame 67\n",
      "Saved frame 68\n",
      "Saved frame 69\n",
      "Saved frame 70\n",
      "Saved frame 71\n",
      "Saved frame 72\n",
      "Saved frame 73\n",
      "Saved frame 74\n",
      "Saved frame 75\n",
      "Saved frame 76\n",
      "Saved frame 77\n",
      "Saved frame 78\n",
      "Saved frame 79\n",
      "Saved frame 80\n",
      "Saved frame 81\n",
      "Saved frame 82\n",
      "Saved frame 83\n",
      "Saved frame 84\n",
      "Saved frame 85\n",
      "Saved frame 86\n",
      "Saved frame 87\n",
      "Saved frame 88\n",
      "Saved frame 89\n",
      "Saved frame 90\n",
      "Saved frame 91\n",
      "Saved frame 92\n",
      "Saved frame 93\n",
      "Saved frame 94\n",
      "Saved frame 95\n",
      "Saved frame 96\n",
      "Saved frame 97\n",
      "Saved frame 98\n",
      "Saved frame 99\n"
     ]
    }
   ],
   "source": [
    "# Loop to read frames from the video stream\n",
    "frame_count = 0\n",
    "max_frames = 100  # Change this value to the desired number of frames\n",
    "while frame_count < max_frames:\n",
    "    # Read a frame from the video stream\n",
    "    ret, frame = cap.read()\n",
    "\n",
    "    # If frame is not read successfully, break the loop\n",
    "    if not ret:\n",
    "        break\n",
    "\n",
    "    # Save the frame as an image file\n",
    "    filename = f\"frame_{frame_count:04d}.jpg\"\n",
    "    cv2.imwrite(filename, frame)\n",
    "    print(f\"Saved frame {frame_count}\")\n",
    "    frame_count += 1\n",
    "\n",
    "# Release the video capture object\n",
    "cap.release()\n",
    "# Close all OpenCV windows\n",
    "cv2.destroyAllWindows()"
   ]
  },
  {
   "cell_type": "code",
   "execution_count": 6,
   "id": "0c73aaa5-8306-4fe4-b7e3-e3e2ee8cde80",
   "metadata": {},
   "outputs": [],
   "source": [
    "# Release the VideoCapture object and close all windows\n",
    "cap.release()\n",
    "cv2.destroyAllWindows()"
   ]
  },
  {
   "cell_type": "code",
   "execution_count": null,
   "id": "f714d4f1-75a0-4be7-851a-de82140c77b9",
   "metadata": {},
   "outputs": [],
   "source": []
  }
 ],
 "metadata": {
  "kernelspec": {
   "display_name": "Python 3 (ipykernel)",
   "language": "python",
   "name": "python3"
  },
  "language_info": {
   "codemirror_mode": {
    "name": "ipython",
    "version": 3
   },
   "file_extension": ".py",
   "mimetype": "text/x-python",
   "name": "python",
   "nbconvert_exporter": "python",
   "pygments_lexer": "ipython3",
   "version": "3.11.5"
  }
 },
 "nbformat": 4,
 "nbformat_minor": 5
}
