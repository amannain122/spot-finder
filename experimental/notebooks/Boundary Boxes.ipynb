{
 "cells": [
  {
   "cell_type": "code",
   "execution_count": 1,
   "id": "a21cca23-aa0f-4c90-9d6e-60dfbb83991f",
   "metadata": {},
   "outputs": [],
   "source": [
    "import cv2"
   ]
  },
  {
   "cell_type": "code",
   "execution_count": 2,
   "id": "0d6734de-53db-4a44-ac23-8d1742a654ce",
   "metadata": {},
   "outputs": [],
   "source": [
    "# Read the image\n",
    "image = cv2.imread('6.jpg')"
   ]
  },
  {
   "cell_type": "code",
   "execution_count": 3,
   "id": "e79d52ef-4116-4b8e-aadb-9ec3f87cab6b",
   "metadata": {},
   "outputs": [],
   "source": [
    "# Define the coordinates of the boundary box\n",
    "x1, y1 = 100, 100  # Top-left corner\n",
    "x2, y2 = 300, 300  # Bottom-right corner"
   ]
  },
  {
   "cell_type": "code",
   "execution_count": 4,
   "id": "66451e2e-ef96-410e-a54c-d28421be1151",
   "metadata": {},
   "outputs": [
    {
     "data": {
      "text/plain": [
       "array([[[177, 163, 157],\n",
       "        [175, 161, 155],\n",
       "        [172, 158, 152],\n",
       "        ...,\n",
       "        [169, 156, 148],\n",
       "        [171, 158, 150],\n",
       "        [173, 160, 152]],\n",
       "\n",
       "       [[176, 162, 156],\n",
       "        [173, 159, 153],\n",
       "        [171, 157, 151],\n",
       "        ...,\n",
       "        [166, 153, 145],\n",
       "        [168, 155, 147],\n",
       "        [171, 158, 150]],\n",
       "\n",
       "       [[175, 161, 155],\n",
       "        [172, 158, 152],\n",
       "        [169, 155, 149],\n",
       "        ...,\n",
       "        [163, 150, 142],\n",
       "        [166, 153, 145],\n",
       "        [168, 155, 147]],\n",
       "\n",
       "       ...,\n",
       "\n",
       "       [[148, 152, 163],\n",
       "        [146, 150, 161],\n",
       "        [144, 148, 159],\n",
       "        ...,\n",
       "        [125, 131, 138],\n",
       "        [125, 131, 138],\n",
       "        [130, 136, 143]],\n",
       "\n",
       "       [[150, 154, 165],\n",
       "        [148, 152, 163],\n",
       "        [145, 149, 160],\n",
       "        ...,\n",
       "        [121, 127, 134],\n",
       "        [121, 127, 134],\n",
       "        [125, 131, 138]],\n",
       "\n",
       "       [[145, 149, 160],\n",
       "        [144, 148, 159],\n",
       "        [141, 145, 156],\n",
       "        ...,\n",
       "        [127, 133, 140],\n",
       "        [129, 135, 142],\n",
       "        [134, 140, 147]]], dtype=uint8)"
      ]
     },
     "execution_count": 4,
     "metadata": {},
     "output_type": "execute_result"
    }
   ],
   "source": [
    "# Draw the boundary box on the image\n",
    "color = (0, 255, 0)  # Green color in BGR\n",
    "thickness = 2  # Thickness of the rectangle border\n",
    "cv2.rectangle(image, (x1, y1), (x2, y2), color, thickness)"
   ]
  },
  {
   "cell_type": "code",
   "execution_count": null,
   "id": "610e4bb3-bdd6-4b3e-a49f-b01823830f05",
   "metadata": {},
   "outputs": [],
   "source": [
    "# Display the image with the boundary box\n",
    "cv2.imshow('Bounding Box Example', image)\n",
    "cv2.waitKey(0)\n",
    "cv2.destroyAllWindows()"
   ]
  },
  {
   "cell_type": "code",
   "execution_count": null,
   "id": "0cb498af-099e-478e-9c04-d47ffae71849",
   "metadata": {},
   "outputs": [],
   "source": []
  }
 ],
 "metadata": {
  "kernelspec": {
   "display_name": "Python 3 (ipykernel)",
   "language": "python",
   "name": "python3"
  },
  "language_info": {
   "codemirror_mode": {
    "name": "ipython",
    "version": 3
   },
   "file_extension": ".py",
   "mimetype": "text/x-python",
   "name": "python",
   "nbconvert_exporter": "python",
   "pygments_lexer": "ipython3",
   "version": "3.11.5"
  }
 },
 "nbformat": 4,
 "nbformat_minor": 5
}
